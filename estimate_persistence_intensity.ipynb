{
 "cells": [
  {
   "cell_type": "markdown",
   "id": "10d4bb69",
   "metadata": {},
   "source": [
    "# Notebook to generate persistence intensity functions and its linear functionals"
   ]
  },
  {
   "cell_type": "code",
   "execution_count": 1,
   "id": "0cfd2762",
   "metadata": {},
   "outputs": [],
   "source": [
    "import matplotlib.pyplot as plt\n",
    "from persistence_intensity_util import *"
   ]
  },
  {
   "cell_type": "markdown",
   "id": "61ea86d4",
   "metadata": {},
   "source": [
    "## MNIST data set"
   ]
  },
  {
   "cell_type": "code",
   "execution_count": 3,
   "id": "29771fe1",
   "metadata": {},
   "outputs": [],
   "source": [
    "label = 4 # or change to 8\n",
    "n_samples = 1000\n",
    "xmax = 900\n",
    "dgm_flist = ['data/MNIST/diagrams/label' + str(label) + '-' + str(i) + '.npy' for i in range(n_samples)]"
   ]
  },
  {
   "cell_type": "code",
   "execution_count": 4,
   "id": "92765822",
   "metadata": {},
   "outputs": [],
   "source": [
    "# persistence intensity function\n",
    "persistence_intensity = estimate_persistence_intensity(dgm_flist, xmax)\n",
    "plot_density(persistence_intensity, xmax)"
   ]
  },
  {
   "cell_type": "code",
   "execution_count": null,
   "id": "c2825754",
   "metadata": {},
   "outputs": [],
   "source": [
    "# persistence density function\n",
    "persistence_density = estimate_persistence_density(dgm_flist,xmax)\n",
    "plot_density(persistence_density, xmax)"
   ]
  },
  {
   "cell_type": "markdown",
   "id": "74068a46",
   "metadata": {},
   "source": [
    "## ORBIT5K data set"
   ]
  },
  {
   "cell_type": "code",
   "execution_count": 5,
   "id": "4bc115a6",
   "metadata": {},
   "outputs": [],
   "source": [
    "param_list = [2.5, 3.5, 4.0, 4.1, 4.3]\n",
    "param_index = 0 # or change to 1,2,3,4\n",
    "n_samples = 1000\n",
    "xmax = 0.6\n",
    "dgm_flist = ['data/ORBIT5K/diagrams/' + str(param_index * n_samples + i) + '.npy' for i in range(n_samples)]"
   ]
  },
  {
   "cell_type": "code",
   "execution_count": null,
   "id": "fd2aebd6",
   "metadata": {},
   "outputs": [],
   "source": [
    "# persistence intensity function\n",
    "persistence_intensity = estimate_persistence_intensity(dgm_flist, xmax)\n",
    "plot_density(persistence_intensity, xmax)\n",
    "plt.title('Persistence intensity function for ORBIT5K data set\\n' + \n",
    "          'sample size =' + str(n_samples) + ', parameter = ' + str(param_list[param_index]))"
   ]
  },
  {
   "cell_type": "code",
   "execution_count": null,
   "id": "2080f248",
   "metadata": {},
   "outputs": [],
   "source": [
    "# persistence density function\n",
    "persistence_density = estimate_persistence_density(dgm_flist,xmax)\n",
    "plot_density(persistence_density, xmax)\n",
    "plt.title('Persistence density function for ORBIT5K data set\\n' + \n",
    "          'sample size =' + str(n_samples) + ', parameter = ' + str(param_list[param_index]))"
   ]
  },
  {
   "cell_type": "markdown",
   "id": "baf8a14a",
   "metadata": {},
   "source": [
    "## Power sphere distribution"
   ]
  },
  {
   "cell_type": "code",
   "execution_count": null,
   "id": "4955d6d7",
   "metadata": {},
   "outputs": [],
   "source": [
    "distribution = 'unif' # or change to 'power'\n",
    "n_samples = 1000\n",
    "xmax = 0.15\n",
    "dgm_flist = ['data/sphere/diagrams/' + distribution + str(i) + '.npy' for i in range(n_samples)]"
   ]
  },
  {
   "cell_type": "code",
   "execution_count": null,
   "id": "0003d820",
   "metadata": {},
   "outputs": [],
   "source": [
    "# persistence intensity function\n",
    "persistence_intensity = estimate_persistence_intensity(dgm_flist, xmax)\n",
    "plot_density(persistence_intensity, xmax)"
   ]
  },
  {
   "cell_type": "code",
   "execution_count": null,
   "id": "f62aa1a5",
   "metadata": {},
   "outputs": [],
   "source": [
    "# persistence density function\n",
    "persistence_density = estimate_persistence_density(dgm_flist,xmax)\n",
    "plot_density(persistence_density, xmax)"
   ]
  }
 ],
 "metadata": {
  "kernelspec": {
   "display_name": "Python 3",
   "language": "python",
   "name": "python3"
  },
  "language_info": {
   "codemirror_mode": {
    "name": "ipython",
    "version": 3
   },
   "file_extension": ".py",
   "mimetype": "text/x-python",
   "name": "python",
   "nbconvert_exporter": "python",
   "pygments_lexer": "ipython3",
   "version": "3.7.3"
  }
 },
 "nbformat": 4,
 "nbformat_minor": 5
}
